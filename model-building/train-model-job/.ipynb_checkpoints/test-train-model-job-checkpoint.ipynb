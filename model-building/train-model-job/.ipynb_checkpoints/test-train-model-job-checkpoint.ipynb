{
 "cells": [
  {
   "cell_type": "markdown",
   "id": "changing-medication",
   "metadata": {},
   "source": [
    "# Component Test: Train with Model Job\n",
    "\n",
    "## Author\n",
    "- Sebastian Lehrig <sebastian.lehrig1@ibm.com>\n",
    "\n",
    "## License\n",
    "Apache-2.0 License"
   ]
  },
  {
   "cell_type": "markdown",
   "id": "automotive-think",
   "metadata": {},
   "source": [
    "## Imports & Constants"
   ]
  },
  {
   "cell_type": "code",
   "execution_count": 62,
   "id": "f8472735-d399-41fc-bdae-e9116de11b17",
   "metadata": {},
   "outputs": [
    {
     "name": "stdout",
     "output_type": "stream",
     "text": [
      "The lab_black extension is already loaded. To reload it, use:\n",
      "  %reload_ext lab_black\n"
     ]
    }
   ],
   "source": [
    "import kfp\n",
    "import kfp.dsl as dsl\n",
    "\n",
    "%load_ext lab_black"
   ]
  },
  {
   "cell_type": "code",
   "execution_count": 54,
   "id": "pacific-writing",
   "metadata": {},
   "outputs": [
    {
     "data": {
      "text/plain": [
       "'user-example-com'"
      ]
     },
     "execution_count": 54,
     "metadata": {},
     "output_type": "execute_result"
    }
   ],
   "source": [
    "BASE_IMAGE = \"quay.io/ibm/kubeflow-notebook-image-ppc64le:latest\"\n",
    "KFP_CLIENT = kfp.Client()\n",
    "\n",
    "with open(\"/var/run/secrets/kubernetes.io/serviceaccount/namespace\") as f:\n",
    "    NAMESPACE = f.read()\n",
    "NAMESPACE"
   ]
  },
  {
   "cell_type": "markdown",
   "id": "6d45803c-fe7d-4e03-9e96-138850458d35",
   "metadata": {},
   "source": [
    "## Specify training"
   ]
  },
  {
   "cell_type": "code",
   "execution_count": 61,
   "id": "ad1bfabd-1ee3-4340-897b-09a94efad660",
   "metadata": {},
   "outputs": [],
   "source": [
    "def train_model(text: str):\n",
    "    import time\n",
    "\n",
    "    seconds = 10\n",
    "    print(f\"Sleeping {seconds} seconds...\")\n",
    "    time.sleep(seconds)\n",
    "    print(text)\n",
    "\n",
    "\n",
    "train_specification = kfp.components.func_to_component_text(func=train_model)"
   ]
  },
  {
   "cell_type": "code",
   "execution_count": 56,
   "id": "840fecc8-afb1-46e6-ba35-547f0ede9d5d",
   "metadata": {
    "tags": []
   },
   "outputs": [],
   "source": [
    "train_comp = kfp.components.load_component_from_file(\"component.yaml\")"
   ]
  },
  {
   "cell_type": "markdown",
   "id": "nutritional-suicide",
   "metadata": {},
   "source": [
    "## Create pipeline"
   ]
  },
  {
   "cell_type": "code",
   "execution_count": 59,
   "id": "material-morning",
   "metadata": {},
   "outputs": [],
   "source": [
    "@dsl.pipeline(\n",
    "    name=\"Component Test - Train with Model Job\", description=\"A simple component test\"\n",
    ")\n",
    "def train_pipeline():\n",
    "    train_parameters = {\"text\": \"Hello training world!\"}\n",
    "\n",
    "    train_comp(\n",
    "        train_dataset_dir=\"/tmp\",\n",
    "        validation_dataset_dir=\"/tmp\",\n",
    "        train_specification=train_specification,\n",
    "        train_parameters=train_parameters,\n",
    "    ).set_display_name(\"Ordinary Kubernetes Job\")\n",
    "\n",
    "    mpi_specification = {\n",
    "        \"distribution_type\": \"MPI\",\n",
    "        \"number_of_workers\": 2,\n",
    "        \"worker_cpus\": \"1\",\n",
    "        \"worker_memory\": \"1Gi\",\n",
    "        \"launcher_cpus\": \"1\",\n",
    "        \"launcher_memory\": \"1Gi\",\n",
    "    }\n",
    "\n",
    "    train_comp(\n",
    "        train_dataset_dir=\"/tmp\",\n",
    "        validation_dataset_dir=\"/tmp\",\n",
    "        train_specification=train_specification,\n",
    "        train_parameters=train_parameters,\n",
    "        distribution_specification=mpi_specification,\n",
    "    ).set_display_name(\"MPIJob\")"
   ]
  },
  {
   "cell_type": "markdown",
   "id": "e8a3bec0-144a-49d4-9c92-af5b84442231",
   "metadata": {},
   "source": [
    "## Run the pipeline within an experiment"
   ]
  },
  {
   "cell_type": "code",
   "execution_count": 60,
   "id": "8a2cf14a-9d24-4919-ab2c-f93f99b5340d",
   "metadata": {},
   "outputs": [
    {
     "data": {
      "text/html": [
       "<a href=\"/pipeline/#/experiments/details/6f189cc3-98f2-4594-bfb2-c9688a1ec5c3\" target=\"_blank\" >Experiment details</a>."
      ],
      "text/plain": [
       "<IPython.core.display.HTML object>"
      ]
     },
     "metadata": {},
     "output_type": "display_data"
    },
    {
     "data": {
      "text/html": [
       "<a href=\"/pipeline/#/runs/details/e2db9d42-b152-422b-b5e8-883bc5cc9066\" target=\"_blank\" >Run details</a>."
      ],
      "text/plain": [
       "<IPython.core.display.HTML object>"
      ]
     },
     "metadata": {},
     "output_type": "display_data"
    },
    {
     "data": {
      "text/plain": [
       "RunPipelineResult(run_id=e2db9d42-b152-422b-b5e8-883bc5cc9066)"
      ]
     },
     "execution_count": 60,
     "metadata": {},
     "output_type": "execute_result"
    }
   ],
   "source": [
    "KFP_CLIENT.create_run_from_pipeline_func(\n",
    "    train_pipeline, arguments={}, namespace=NAMESPACE\n",
    ")"
   ]
  },
  {
   "cell_type": "code",
   "execution_count": null,
   "id": "23b37da4-7e18-4d3e-a17a-8ea3b288c8f0",
   "metadata": {},
   "outputs": [],
   "source": []
  }
 ],
 "metadata": {
  "kernelspec": {
   "display_name": "Python 3 (ipykernel)",
   "language": "python",
   "name": "python3"
  },
  "language_info": {
   "codemirror_mode": {
    "name": "ipython",
    "version": 3
   },
   "file_extension": ".py",
   "mimetype": "text/x-python",
   "name": "python",
   "nbconvert_exporter": "python",
   "pygments_lexer": "ipython3",
   "version": "3.9.13"
  }
 },
 "nbformat": 4,
 "nbformat_minor": 5
}
